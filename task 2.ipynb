{
 "cells": [
  {
   "cell_type": "code",
   "execution_count": 1,
   "id": "a337632d",
   "metadata": {},
   "outputs": [],
   "source": [
    "import numpy as np\n",
    "import tensorflow as tf\n",
    "from tensorflow import keras\n",
    "from tensorflow.keras import layers\n",
    "from tensorflow.keras.callbacks import EarlyStopping\n"
   ]
  },
  {
   "cell_type": "code",
   "execution_count": 2,
   "id": "29fc3483",
   "metadata": {},
   "outputs": [
    {
     "name": "stdout",
     "output_type": "stream",
     "text": [
      "Downloading data from https://storage.googleapis.com/tensorflow/tf-keras-datasets/train-labels-idx1-ubyte.gz\n",
      "29515/29515 [==============================] - 0s 2us/step\n",
      "Downloading data from https://storage.googleapis.com/tensorflow/tf-keras-datasets/train-images-idx3-ubyte.gz\n",
      "26421880/26421880 [==============================] - 12s 0us/step\n",
      "Downloading data from https://storage.googleapis.com/tensorflow/tf-keras-datasets/t10k-labels-idx1-ubyte.gz\n",
      "5148/5148 [==============================] - 0s 0s/step\n",
      "Downloading data from https://storage.googleapis.com/tensorflow/tf-keras-datasets/t10k-images-idx3-ubyte.gz\n",
      "4422102/4422102 [==============================] - 1s 0us/step\n"
     ]
    }
   ],
   "source": [
    "# Load the Fashion MNIST dataset\n",
    "(x_train, y_train), (x_test, y_test) = keras.datasets.fashion_mnist.load_data()\n",
    "\n",
    "# Preprocess the data\n",
    "x_train = x_train.astype(\"float32\") / 255.0\n",
    "x_test = x_test.astype(\"float32\") / 255.0\n",
    "x_train = np.expand_dims(x_train, -1)\n",
    "x_test = np.expand_dims(x_test, -1)\n",
    "\n",
    "# Define the model\n",
    "model = keras.Sequential([\n",
    "    layers.Conv2D(32, (3, 3), activation='relu', input_shape=(28, 28, 1)),\n",
    "    layers.MaxPooling2D((2, 2)),\n",
    "    layers.Conv2D(64, (3, 3), activation='relu'),\n",
    "    layers.MaxPooling2D((2, 2)),\n",
    "    layers.Conv2D(128, (3, 3), activation='relu'),\n",
    "    layers.Flatten(),\n",
    "    layers.Dense(128, activation='relu'),\n",
    "    layers.Dense(10)\n",
    "])"
   ]
  },
  {
   "cell_type": "code",
   "execution_count": 3,
   "id": "85b60221",
   "metadata": {},
   "outputs": [
    {
     "name": "stdout",
     "output_type": "stream",
     "text": [
      "Epoch 1/100\n",
      "1500/1500 [==============================] - 52s 34ms/step - loss: 0.4955 - accuracy: 0.8181 - val_loss: 0.3692 - val_accuracy: 0.8649\n",
      "Epoch 2/100\n",
      "1500/1500 [==============================] - 48s 32ms/step - loss: 0.3204 - accuracy: 0.8829 - val_loss: 0.3000 - val_accuracy: 0.8885\n",
      "Epoch 3/100\n",
      "1500/1500 [==============================] - 48s 32ms/step - loss: 0.2719 - accuracy: 0.8994 - val_loss: 0.2697 - val_accuracy: 0.8995\n",
      "Epoch 4/100\n",
      "1500/1500 [==============================] - 47s 32ms/step - loss: 0.2365 - accuracy: 0.9129 - val_loss: 0.2766 - val_accuracy: 0.8976\n",
      "Epoch 5/100\n",
      "1500/1500 [==============================] - 47s 31ms/step - loss: 0.2116 - accuracy: 0.9207 - val_loss: 0.2524 - val_accuracy: 0.9113\n",
      "Epoch 6/100\n",
      "1500/1500 [==============================] - 37s 24ms/step - loss: 0.1896 - accuracy: 0.9287 - val_loss: 0.2658 - val_accuracy: 0.9034\n",
      "Epoch 7/100\n",
      "1500/1500 [==============================] - 31s 21ms/step - loss: 0.1675 - accuracy: 0.9367 - val_loss: 0.2748 - val_accuracy: 0.9057\n",
      "Epoch 8/100\n",
      "1500/1500 [==============================] - 31s 21ms/step - loss: 0.1478 - accuracy: 0.9453 - val_loss: 0.2649 - val_accuracy: 0.9080\n",
      "Epoch 9/100\n",
      "1500/1500 [==============================] - 31s 21ms/step - loss: 0.1339 - accuracy: 0.9498 - val_loss: 0.2942 - val_accuracy: 0.9061\n",
      "Epoch 10/100\n",
      "1500/1500 [==============================] - 31s 21ms/step - loss: 0.1163 - accuracy: 0.9567 - val_loss: 0.3102 - val_accuracy: 0.9076\n",
      "Epoch 11/100\n",
      "1500/1500 [==============================] - 31s 21ms/step - loss: 0.1028 - accuracy: 0.9611 - val_loss: 0.3029 - val_accuracy: 0.9100\n",
      "Epoch 12/100\n",
      "1500/1500 [==============================] - 33s 22ms/step - loss: 0.0904 - accuracy: 0.9654 - val_loss: 0.3297 - val_accuracy: 0.9130\n",
      "Epoch 13/100\n",
      "1500/1500 [==============================] - 34s 22ms/step - loss: 0.0830 - accuracy: 0.9682 - val_loss: 0.3627 - val_accuracy: 0.9065\n",
      "Epoch 14/100\n",
      "1500/1500 [==============================] - 33s 22ms/step - loss: 0.0739 - accuracy: 0.9718 - val_loss: 0.3720 - val_accuracy: 0.9064\n",
      "Epoch 15/100\n",
      "1500/1500 [==============================] - 33s 22ms/step - loss: 0.0709 - accuracy: 0.9731 - val_loss: 0.3878 - val_accuracy: 0.9024\n"
     ]
    }
   ],
   "source": [
    "# Compile the model\n",
    "model.compile(optimizer='adam',\n",
    "              loss=tf.keras.losses.SparseCategoricalCrossentropy(from_logits=True),\n",
    "              metrics=['accuracy'])\n",
    "\n",
    "# Define the early stopping callback\n",
    "early_stop = EarlyStopping(monitor='val_loss', patience=10)\n",
    "\n",
    "# Train the model with early stopping\n",
    "history = model.fit(\n",
    "    x_train,\n",
    "    y_train,\n",
    "    epochs=100,\n",
    "    validation_split=0.2,\n",
    "    callbacks=[early_stop]\n",
    ")"
   ]
  },
  {
   "cell_type": "code",
   "execution_count": 4,
   "id": "d0adcabf",
   "metadata": {},
   "outputs": [
    {
     "name": "stdout",
     "output_type": "stream",
     "text": [
      "313/313 - 2s - loss: 0.4161 - accuracy: 0.8991 - 2s/epoch - 7ms/step\n",
      "Test accuracy: 0.8991000056266785\n"
     ]
    }
   ],
   "source": [
    "# Evaluate the model on the test data\n",
    "test_loss, test_acc = model.evaluate(x_test, y_test, verbose=2)\n",
    "print(\"Test accuracy:\", test_acc)"
   ]
  },
  {
   "cell_type": "code",
   "execution_count": null,
   "id": "02f417ce",
   "metadata": {},
   "outputs": [],
   "source": []
  },
  {
   "cell_type": "code",
   "execution_count": null,
   "id": "2ebc2125",
   "metadata": {},
   "outputs": [],
   "source": []
  }
 ],
 "metadata": {
  "kernelspec": {
   "display_name": "Python 3 (ipykernel)",
   "language": "python",
   "name": "python3"
  },
  "language_info": {
   "codemirror_mode": {
    "name": "ipython",
    "version": 3
   },
   "file_extension": ".py",
   "mimetype": "text/x-python",
   "name": "python",
   "nbconvert_exporter": "python",
   "pygments_lexer": "ipython3",
   "version": "3.9.13"
  }
 },
 "nbformat": 4,
 "nbformat_minor": 5
}
